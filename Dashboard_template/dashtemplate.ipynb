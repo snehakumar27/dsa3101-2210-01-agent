{
 "cells": [
  {
   "cell_type": "code",
   "execution_count": 479,
   "metadata": {},
   "outputs": [],
   "source": [
    "import pandas as pd\n",
    "import plotly.express as px\n",
    "import dash\n",
    "from dash import html\n",
    "from dash import dcc\n",
    "from dash.dependencies import Input, Output\n",
    "from jupyter_dash import JupyterDash\n",
    "import dash_bootstrap_components as dbc"
   ]
  },
  {
   "cell_type": "code",
   "execution_count": 480,
   "metadata": {},
   "outputs": [],
   "source": [
    "import plotly.graph_objects as go\n",
    "from plotly.subplots import make_subplots"
   ]
  },
  {
   "cell_type": "markdown",
   "metadata": {},
   "source": [
    "importing dataset"
   ]
  },
  {
   "cell_type": "code",
   "execution_count": 481,
   "metadata": {},
   "outputs": [
    {
     "data": {
      "text/html": [
       "<div>\n",
       "<style scoped>\n",
       "    .dataframe tbody tr th:only-of-type {\n",
       "        vertical-align: middle;\n",
       "    }\n",
       "\n",
       "    .dataframe tbody tr th {\n",
       "        vertical-align: top;\n",
       "    }\n",
       "\n",
       "    .dataframe thead th {\n",
       "        text-align: right;\n",
       "    }\n",
       "</style>\n",
       "<table border=\"1\" class=\"dataframe\">\n",
       "  <thead>\n",
       "    <tr style=\"text-align: right;\">\n",
       "      <th></th>\n",
       "      <th>number_of_lanes</th>\n",
       "      <th>ratio</th>\n",
       "      <th>time_of_day</th>\n",
       "      <th>population_density</th>\n",
       "      <th>road_density</th>\n",
       "      <th>avg_waiting_cars</th>\n",
       "      <th>avg_crowd_size</th>\n",
       "      <th>avg_speed_cars</th>\n",
       "      <th>no._stopped_cars</th>\n",
       "    </tr>\n",
       "  </thead>\n",
       "  <tbody>\n",
       "    <tr>\n",
       "      <th>0</th>\n",
       "      <td>1.0</td>\n",
       "      <td>0.5</td>\n",
       "      <td>morning</td>\n",
       "      <td>low</td>\n",
       "      <td>0.792906</td>\n",
       "      <td>174.117270</td>\n",
       "      <td>30.125963</td>\n",
       "      <td>14.693036</td>\n",
       "      <td>138.058611</td>\n",
       "    </tr>\n",
       "    <tr>\n",
       "      <th>1</th>\n",
       "      <td>1.0</td>\n",
       "      <td>0.5</td>\n",
       "      <td>morning</td>\n",
       "      <td>medium</td>\n",
       "      <td>0.699493</td>\n",
       "      <td>75.971282</td>\n",
       "      <td>28.148333</td>\n",
       "      <td>56.882592</td>\n",
       "      <td>53.141410</td>\n",
       "    </tr>\n",
       "    <tr>\n",
       "      <th>2</th>\n",
       "      <td>1.0</td>\n",
       "      <td>0.5</td>\n",
       "      <td>morning</td>\n",
       "      <td>high</td>\n",
       "      <td>0.658420</td>\n",
       "      <td>115.474958</td>\n",
       "      <td>22.113161</td>\n",
       "      <td>79.548224</td>\n",
       "      <td>76.031076</td>\n",
       "    </tr>\n",
       "    <tr>\n",
       "      <th>3</th>\n",
       "      <td>1.0</td>\n",
       "      <td>0.5</td>\n",
       "      <td>afternoon</td>\n",
       "      <td>low</td>\n",
       "      <td>0.082592</td>\n",
       "      <td>39.647165</td>\n",
       "      <td>77.843491</td>\n",
       "      <td>43.978393</td>\n",
       "      <td>3.274549</td>\n",
       "    </tr>\n",
       "    <tr>\n",
       "      <th>4</th>\n",
       "      <td>1.0</td>\n",
       "      <td>0.5</td>\n",
       "      <td>afternoon</td>\n",
       "      <td>medium</td>\n",
       "      <td>0.800032</td>\n",
       "      <td>46.514267</td>\n",
       "      <td>42.570790</td>\n",
       "      <td>35.798271</td>\n",
       "      <td>37.212901</td>\n",
       "    </tr>\n",
       "  </tbody>\n",
       "</table>\n",
       "</div>"
      ],
      "text/plain": [
       "   number_of_lanes  ratio time_of_day population_density  road_density  \\\n",
       "0              1.0    0.5     morning                low      0.792906   \n",
       "1              1.0    0.5     morning             medium      0.699493   \n",
       "2              1.0    0.5     morning               high      0.658420   \n",
       "3              1.0    0.5   afternoon                low      0.082592   \n",
       "4              1.0    0.5   afternoon             medium      0.800032   \n",
       "\n",
       "   avg_waiting_cars  avg_crowd_size  avg_speed_cars  no._stopped_cars  \n",
       "0        174.117270       30.125963       14.693036        138.058611  \n",
       "1         75.971282       28.148333       56.882592         53.141410  \n",
       "2        115.474958       22.113161       79.548224         76.031076  \n",
       "3         39.647165       77.843491       43.978393          3.274549  \n",
       "4         46.514267       42.570790       35.798271         37.212901  "
      ]
     },
     "execution_count": 481,
     "metadata": {},
     "output_type": "execute_result"
    }
   ],
   "source": [
    "data = pd.read_excel(\"outputdata.xlsx\", header=1)\n",
    "data.head()"
   ]
  },
  {
   "cell_type": "markdown",
   "metadata": {},
   "source": [
    "## Graphs"
   ]
  },
  {
   "cell_type": "markdown",
   "metadata": {},
   "source": [
    "### Graphs for tab 1"
   ]
  },
  {
   "cell_type": "markdown",
   "metadata": {},
   "source": [
    "### Graphs for tab 2-1"
   ]
  },
  {
   "cell_type": "code",
   "execution_count": 482,
   "metadata": {},
   "outputs": [],
   "source": [
    "def create_plot_crowd(time=\"afternoon\", density=\"medium\"):\n",
    "    df = data[data[\"time_of_day\"] == time]\n",
    "    df = df[df[\"population_density\"] == density]\n",
    "\n",
    "    crowd_heat_df = df[[\"number_of_lanes\", \"ratio\", \"avg_crowd_size\"]]\n",
    "    crowd_lanes = df[[\"number_of_lanes\", \"avg_crowd_size\"]].groupby(\"number_of_lanes\").mean()\n",
    "    crowd_ratio = df[[\"ratio\", \"avg_crowd_size\"]].groupby(\"ratio\").mean()\n",
    "\n",
    "    fig = make_subplots(\n",
    "        rows=2, cols=2,\n",
    "        column_widths=[0.5, 0.5],\n",
    "        row_heights=[0.5, 0.5],\n",
    "        specs=[[{\"type\": \"heatmap\", \"rowspan\": 2}, {\"type\": \"bar\"}],\n",
    "           [None, {\"type\": \"bar\"}]])\n",
    "    \n",
    "    fig.add_trace(\n",
    "    go.Heatmap(x = crowd_heat_df[\"number_of_lanes\"],\n",
    "        y =  crowd_heat_df[\"ratio\"],\n",
    "        z =  crowd_heat_df[\"avg_crowd_size\"]\n",
    "        ),\n",
    "    row=1, col=1,\n",
    "    )\n",
    "\n",
    "    fig.add_trace(\n",
    "    go.Bar(x = crowd_lanes.index,\n",
    "        y = crowd_lanes[\"avg_crowd_size\"]\n",
    "        ),\n",
    "    row=1, col=2,\n",
    "    )\n",
    "\n",
    "    fig.add_trace(\n",
    "    go.Bar(x = crowd_ratio.index,\n",
    "        y = crowd_ratio[\"avg_crowd_size\"]\n",
    "        ),\n",
    "    row=2, col=2,\n",
    "    )\n",
    "\n",
    "    fig.update_xaxes(title_text=\"Number of Lanes\", row=1, col=1)\n",
    "    fig.update_xaxes(title_text=\"Number of Lanes\", row=1, col=2)\n",
    "    fig.update_xaxes(title_text=\"Green-Red Ratio\", row=2, col=2)\n",
    "\n",
    "    fig.update_yaxes(title_text=\"Green-Red Ratio\", row=1, col=1)\n",
    "    fig.update_yaxes(title_text=\"Average Crowd Size\", row=1, col=2)\n",
    "    fig.update_yaxes(title_text=\"Average Crowd Size\", row=2, col=2)\n",
    "\n",
    "    return fig\n",
    "    \n"
   ]
  },
  {
   "cell_type": "code",
   "execution_count": 483,
   "metadata": {},
   "outputs": [
    {
     "data": {
      "application/vnd.plotly.v1+json": {
       "config": {
        "plotlyServerURL": "https://plot.ly"
       },
       "data": [
        {
         "type": "heatmap",
         "x": [
          1,
          1,
          1,
          1,
          2,
          2,
          2,
          2,
          3,
          3,
          3,
          3,
          4,
          4,
          4,
          4
         ],
         "xaxis": "x",
         "y": [
          0.5,
          1,
          1.5,
          2,
          0.5,
          1,
          1.5,
          2,
          0.5,
          1,
          1.5,
          2,
          0.5,
          1,
          1.5,
          2
         ],
         "yaxis": "y",
         "z": [
          42.57078985,
          35.15603777,
          67.97390269,
          39.04787972,
          97.63367741,
          28.30656325,
          96.43265946,
          80.12846529,
          2.543448589,
          69.64412973,
          89.42706342,
          48.68290945,
          39.62768644,
          22.28673927,
          12.22614545,
          17.37072816
         ]
        },
        {
         "type": "bar",
         "x": [
          1,
          2,
          3,
          4
         ],
         "xaxis": "x2",
         "y": [
          46.1871525075,
          75.6253413525,
          52.57438779725,
          22.87782483
         ],
         "yaxis": "y2"
        },
        {
         "type": "bar",
         "x": [
          0.5,
          1,
          1.5,
          2
         ],
         "xaxis": "x3",
         "y": [
          45.59390057225,
          38.848367505,
          66.51494275499999,
          46.307495655
         ],
         "yaxis": "y3"
        }
       ],
       "layout": {
        "template": {
         "data": {
          "bar": [
           {
            "error_x": {
             "color": "#2a3f5f"
            },
            "error_y": {
             "color": "#2a3f5f"
            },
            "marker": {
             "line": {
              "color": "#E5ECF6",
              "width": 0.5
             },
             "pattern": {
              "fillmode": "overlay",
              "size": 10,
              "solidity": 0.2
             }
            },
            "type": "bar"
           }
          ],
          "barpolar": [
           {
            "marker": {
             "line": {
              "color": "#E5ECF6",
              "width": 0.5
             },
             "pattern": {
              "fillmode": "overlay",
              "size": 10,
              "solidity": 0.2
             }
            },
            "type": "barpolar"
           }
          ],
          "carpet": [
           {
            "aaxis": {
             "endlinecolor": "#2a3f5f",
             "gridcolor": "white",
             "linecolor": "white",
             "minorgridcolor": "white",
             "startlinecolor": "#2a3f5f"
            },
            "baxis": {
             "endlinecolor": "#2a3f5f",
             "gridcolor": "white",
             "linecolor": "white",
             "minorgridcolor": "white",
             "startlinecolor": "#2a3f5f"
            },
            "type": "carpet"
           }
          ],
          "choropleth": [
           {
            "colorbar": {
             "outlinewidth": 0,
             "ticks": ""
            },
            "type": "choropleth"
           }
          ],
          "contour": [
           {
            "colorbar": {
             "outlinewidth": 0,
             "ticks": ""
            },
            "colorscale": [
             [
              0,
              "#0d0887"
             ],
             [
              0.1111111111111111,
              "#46039f"
             ],
             [
              0.2222222222222222,
              "#7201a8"
             ],
             [
              0.3333333333333333,
              "#9c179e"
             ],
             [
              0.4444444444444444,
              "#bd3786"
             ],
             [
              0.5555555555555556,
              "#d8576b"
             ],
             [
              0.6666666666666666,
              "#ed7953"
             ],
             [
              0.7777777777777778,
              "#fb9f3a"
             ],
             [
              0.8888888888888888,
              "#fdca26"
             ],
             [
              1,
              "#f0f921"
             ]
            ],
            "type": "contour"
           }
          ],
          "contourcarpet": [
           {
            "colorbar": {
             "outlinewidth": 0,
             "ticks": ""
            },
            "type": "contourcarpet"
           }
          ],
          "heatmap": [
           {
            "colorbar": {
             "outlinewidth": 0,
             "ticks": ""
            },
            "colorscale": [
             [
              0,
              "#0d0887"
             ],
             [
              0.1111111111111111,
              "#46039f"
             ],
             [
              0.2222222222222222,
              "#7201a8"
             ],
             [
              0.3333333333333333,
              "#9c179e"
             ],
             [
              0.4444444444444444,
              "#bd3786"
             ],
             [
              0.5555555555555556,
              "#d8576b"
             ],
             [
              0.6666666666666666,
              "#ed7953"
             ],
             [
              0.7777777777777778,
              "#fb9f3a"
             ],
             [
              0.8888888888888888,
              "#fdca26"
             ],
             [
              1,
              "#f0f921"
             ]
            ],
            "type": "heatmap"
           }
          ],
          "heatmapgl": [
           {
            "colorbar": {
             "outlinewidth": 0,
             "ticks": ""
            },
            "colorscale": [
             [
              0,
              "#0d0887"
             ],
             [
              0.1111111111111111,
              "#46039f"
             ],
             [
              0.2222222222222222,
              "#7201a8"
             ],
             [
              0.3333333333333333,
              "#9c179e"
             ],
             [
              0.4444444444444444,
              "#bd3786"
             ],
             [
              0.5555555555555556,
              "#d8576b"
             ],
             [
              0.6666666666666666,
              "#ed7953"
             ],
             [
              0.7777777777777778,
              "#fb9f3a"
             ],
             [
              0.8888888888888888,
              "#fdca26"
             ],
             [
              1,
              "#f0f921"
             ]
            ],
            "type": "heatmapgl"
           }
          ],
          "histogram": [
           {
            "marker": {
             "pattern": {
              "fillmode": "overlay",
              "size": 10,
              "solidity": 0.2
             }
            },
            "type": "histogram"
           }
          ],
          "histogram2d": [
           {
            "colorbar": {
             "outlinewidth": 0,
             "ticks": ""
            },
            "colorscale": [
             [
              0,
              "#0d0887"
             ],
             [
              0.1111111111111111,
              "#46039f"
             ],
             [
              0.2222222222222222,
              "#7201a8"
             ],
             [
              0.3333333333333333,
              "#9c179e"
             ],
             [
              0.4444444444444444,
              "#bd3786"
             ],
             [
              0.5555555555555556,
              "#d8576b"
             ],
             [
              0.6666666666666666,
              "#ed7953"
             ],
             [
              0.7777777777777778,
              "#fb9f3a"
             ],
             [
              0.8888888888888888,
              "#fdca26"
             ],
             [
              1,
              "#f0f921"
             ]
            ],
            "type": "histogram2d"
           }
          ],
          "histogram2dcontour": [
           {
            "colorbar": {
             "outlinewidth": 0,
             "ticks": ""
            },
            "colorscale": [
             [
              0,
              "#0d0887"
             ],
             [
              0.1111111111111111,
              "#46039f"
             ],
             [
              0.2222222222222222,
              "#7201a8"
             ],
             [
              0.3333333333333333,
              "#9c179e"
             ],
             [
              0.4444444444444444,
              "#bd3786"
             ],
             [
              0.5555555555555556,
              "#d8576b"
             ],
             [
              0.6666666666666666,
              "#ed7953"
             ],
             [
              0.7777777777777778,
              "#fb9f3a"
             ],
             [
              0.8888888888888888,
              "#fdca26"
             ],
             [
              1,
              "#f0f921"
             ]
            ],
            "type": "histogram2dcontour"
           }
          ],
          "mesh3d": [
           {
            "colorbar": {
             "outlinewidth": 0,
             "ticks": ""
            },
            "type": "mesh3d"
           }
          ],
          "parcoords": [
           {
            "line": {
             "colorbar": {
              "outlinewidth": 0,
              "ticks": ""
             }
            },
            "type": "parcoords"
           }
          ],
          "pie": [
           {
            "automargin": true,
            "type": "pie"
           }
          ],
          "scatter": [
           {
            "fillpattern": {
             "fillmode": "overlay",
             "size": 10,
             "solidity": 0.2
            },
            "type": "scatter"
           }
          ],
          "scatter3d": [
           {
            "line": {
             "colorbar": {
              "outlinewidth": 0,
              "ticks": ""
             }
            },
            "marker": {
             "colorbar": {
              "outlinewidth": 0,
              "ticks": ""
             }
            },
            "type": "scatter3d"
           }
          ],
          "scattercarpet": [
           {
            "marker": {
             "colorbar": {
              "outlinewidth": 0,
              "ticks": ""
             }
            },
            "type": "scattercarpet"
           }
          ],
          "scattergeo": [
           {
            "marker": {
             "colorbar": {
              "outlinewidth": 0,
              "ticks": ""
             }
            },
            "type": "scattergeo"
           }
          ],
          "scattergl": [
           {
            "marker": {
             "colorbar": {
              "outlinewidth": 0,
              "ticks": ""
             }
            },
            "type": "scattergl"
           }
          ],
          "scattermapbox": [
           {
            "marker": {
             "colorbar": {
              "outlinewidth": 0,
              "ticks": ""
             }
            },
            "type": "scattermapbox"
           }
          ],
          "scatterpolar": [
           {
            "marker": {
             "colorbar": {
              "outlinewidth": 0,
              "ticks": ""
             }
            },
            "type": "scatterpolar"
           }
          ],
          "scatterpolargl": [
           {
            "marker": {
             "colorbar": {
              "outlinewidth": 0,
              "ticks": ""
             }
            },
            "type": "scatterpolargl"
           }
          ],
          "scatterternary": [
           {
            "marker": {
             "colorbar": {
              "outlinewidth": 0,
              "ticks": ""
             }
            },
            "type": "scatterternary"
           }
          ],
          "surface": [
           {
            "colorbar": {
             "outlinewidth": 0,
             "ticks": ""
            },
            "colorscale": [
             [
              0,
              "#0d0887"
             ],
             [
              0.1111111111111111,
              "#46039f"
             ],
             [
              0.2222222222222222,
              "#7201a8"
             ],
             [
              0.3333333333333333,
              "#9c179e"
             ],
             [
              0.4444444444444444,
              "#bd3786"
             ],
             [
              0.5555555555555556,
              "#d8576b"
             ],
             [
              0.6666666666666666,
              "#ed7953"
             ],
             [
              0.7777777777777778,
              "#fb9f3a"
             ],
             [
              0.8888888888888888,
              "#fdca26"
             ],
             [
              1,
              "#f0f921"
             ]
            ],
            "type": "surface"
           }
          ],
          "table": [
           {
            "cells": {
             "fill": {
              "color": "#EBF0F8"
             },
             "line": {
              "color": "white"
             }
            },
            "header": {
             "fill": {
              "color": "#C8D4E3"
             },
             "line": {
              "color": "white"
             }
            },
            "type": "table"
           }
          ]
         },
         "layout": {
          "annotationdefaults": {
           "arrowcolor": "#2a3f5f",
           "arrowhead": 0,
           "arrowwidth": 1
          },
          "autotypenumbers": "strict",
          "coloraxis": {
           "colorbar": {
            "outlinewidth": 0,
            "ticks": ""
           }
          },
          "colorscale": {
           "diverging": [
            [
             0,
             "#8e0152"
            ],
            [
             0.1,
             "#c51b7d"
            ],
            [
             0.2,
             "#de77ae"
            ],
            [
             0.3,
             "#f1b6da"
            ],
            [
             0.4,
             "#fde0ef"
            ],
            [
             0.5,
             "#f7f7f7"
            ],
            [
             0.6,
             "#e6f5d0"
            ],
            [
             0.7,
             "#b8e186"
            ],
            [
             0.8,
             "#7fbc41"
            ],
            [
             0.9,
             "#4d9221"
            ],
            [
             1,
             "#276419"
            ]
           ],
           "sequential": [
            [
             0,
             "#0d0887"
            ],
            [
             0.1111111111111111,
             "#46039f"
            ],
            [
             0.2222222222222222,
             "#7201a8"
            ],
            [
             0.3333333333333333,
             "#9c179e"
            ],
            [
             0.4444444444444444,
             "#bd3786"
            ],
            [
             0.5555555555555556,
             "#d8576b"
            ],
            [
             0.6666666666666666,
             "#ed7953"
            ],
            [
             0.7777777777777778,
             "#fb9f3a"
            ],
            [
             0.8888888888888888,
             "#fdca26"
            ],
            [
             1,
             "#f0f921"
            ]
           ],
           "sequentialminus": [
            [
             0,
             "#0d0887"
            ],
            [
             0.1111111111111111,
             "#46039f"
            ],
            [
             0.2222222222222222,
             "#7201a8"
            ],
            [
             0.3333333333333333,
             "#9c179e"
            ],
            [
             0.4444444444444444,
             "#bd3786"
            ],
            [
             0.5555555555555556,
             "#d8576b"
            ],
            [
             0.6666666666666666,
             "#ed7953"
            ],
            [
             0.7777777777777778,
             "#fb9f3a"
            ],
            [
             0.8888888888888888,
             "#fdca26"
            ],
            [
             1,
             "#f0f921"
            ]
           ]
          },
          "colorway": [
           "#636efa",
           "#EF553B",
           "#00cc96",
           "#ab63fa",
           "#FFA15A",
           "#19d3f3",
           "#FF6692",
           "#B6E880",
           "#FF97FF",
           "#FECB52"
          ],
          "font": {
           "color": "#2a3f5f"
          },
          "geo": {
           "bgcolor": "white",
           "lakecolor": "white",
           "landcolor": "#E5ECF6",
           "showlakes": true,
           "showland": true,
           "subunitcolor": "white"
          },
          "hoverlabel": {
           "align": "left"
          },
          "hovermode": "closest",
          "mapbox": {
           "style": "light"
          },
          "paper_bgcolor": "white",
          "plot_bgcolor": "#E5ECF6",
          "polar": {
           "angularaxis": {
            "gridcolor": "white",
            "linecolor": "white",
            "ticks": ""
           },
           "bgcolor": "#E5ECF6",
           "radialaxis": {
            "gridcolor": "white",
            "linecolor": "white",
            "ticks": ""
           }
          },
          "scene": {
           "xaxis": {
            "backgroundcolor": "#E5ECF6",
            "gridcolor": "white",
            "gridwidth": 2,
            "linecolor": "white",
            "showbackground": true,
            "ticks": "",
            "zerolinecolor": "white"
           },
           "yaxis": {
            "backgroundcolor": "#E5ECF6",
            "gridcolor": "white",
            "gridwidth": 2,
            "linecolor": "white",
            "showbackground": true,
            "ticks": "",
            "zerolinecolor": "white"
           },
           "zaxis": {
            "backgroundcolor": "#E5ECF6",
            "gridcolor": "white",
            "gridwidth": 2,
            "linecolor": "white",
            "showbackground": true,
            "ticks": "",
            "zerolinecolor": "white"
           }
          },
          "shapedefaults": {
           "line": {
            "color": "#2a3f5f"
           }
          },
          "ternary": {
           "aaxis": {
            "gridcolor": "white",
            "linecolor": "white",
            "ticks": ""
           },
           "baxis": {
            "gridcolor": "white",
            "linecolor": "white",
            "ticks": ""
           },
           "bgcolor": "#E5ECF6",
           "caxis": {
            "gridcolor": "white",
            "linecolor": "white",
            "ticks": ""
           }
          },
          "title": {
           "x": 0.05
          },
          "xaxis": {
           "automargin": true,
           "gridcolor": "white",
           "linecolor": "white",
           "ticks": "",
           "title": {
            "standoff": 15
           },
           "zerolinecolor": "white",
           "zerolinewidth": 2
          },
          "yaxis": {
           "automargin": true,
           "gridcolor": "white",
           "linecolor": "white",
           "ticks": "",
           "title": {
            "standoff": 15
           },
           "zerolinecolor": "white",
           "zerolinewidth": 2
          }
         }
        },
        "xaxis": {
         "anchor": "y",
         "domain": [
          0,
          0.45
         ],
         "title": {
          "text": "Number of Lanes"
         }
        },
        "xaxis2": {
         "anchor": "y2",
         "domain": [
          0.55,
          1
         ],
         "title": {
          "text": "Number of Lanes"
         }
        },
        "xaxis3": {
         "anchor": "y3",
         "domain": [
          0.55,
          1
         ],
         "title": {
          "text": "Green-Red Ratio"
         }
        },
        "yaxis": {
         "anchor": "x",
         "domain": [
          0,
          1
         ],
         "title": {
          "text": "Green-Red Ratio"
         }
        },
        "yaxis2": {
         "anchor": "x2",
         "domain": [
          0.575,
          1
         ],
         "title": {
          "text": "Average Crowd Size"
         }
        },
        "yaxis3": {
         "anchor": "x3",
         "domain": [
          0,
          0.425
         ],
         "title": {
          "text": "Average Crowd Size"
         }
        }
       }
      }
     },
     "metadata": {},
     "output_type": "display_data"
    }
   ],
   "source": [
    "create_plot_crowd()"
   ]
  },
  {
   "cell_type": "markdown",
   "metadata": {},
   "source": [
    "### Graphs for tab 2-2"
   ]
  },
  {
   "cell_type": "markdown",
   "metadata": {},
   "source": [
    "### Graphs for tab 2-3"
   ]
  },
  {
   "cell_type": "markdown",
   "metadata": {},
   "source": [
    "## The APP"
   ]
  },
  {
   "cell_type": "code",
   "execution_count": 484,
   "metadata": {},
   "outputs": [],
   "source": [
    "app=JupyterDash(external_stylesheets=[dbc.themes.BOOTSTRAP, 'https://codepen.io/chriddyp/pen/bWLwgP.css'])"
   ]
  },
  {
   "cell_type": "markdown",
   "metadata": {},
   "source": [
    "### Tab 1"
   ]
  },
  {
   "cell_type": "code",
   "execution_count": 485,
   "metadata": {},
   "outputs": [
    {
     "data": {
      "text/plain": [
       "'\\ncontent2 = dbc.Row([\\n    dbc.Col([\\n        dcc.RadioItems([\\'Wait time of Cars\\', \\'Crowd size of Pedestrians\\',\\'Compare\\'], \\'Cars\\', inline=False)\\n    ], width = 2),\\n    dbc.Col([\\n        html.H5(\"Placeholder for Graphs\"),\\n        dcc.Graph(id = \"graph_crowd\", figure=create_plot_crowd())\\n    ], width = 10)\\n]\\n)\\n'"
      ]
     },
     "execution_count": 485,
     "metadata": {},
     "output_type": "execute_result"
    }
   ],
   "source": [
    "content1 = dbc.Row([\n",
    "    dbc.Col([\n",
    "        html.H3(\"Placeholder for inputs\"),\n",
    "        html.H3(\"Placeholder for outputs\")\n",
    "    ], width = 5),\n",
    "    dbc.Col([\n",
    "        html.H3(\"Placeholder for Graph\"),\n",
    "    ])\n",
    "]\n",
    ")"
   ]
  },
  {
   "cell_type": "markdown",
   "metadata": {},
   "source": [
    "### Tab 2"
   ]
  },
  {
   "cell_type": "code",
   "execution_count": 486,
   "metadata": {},
   "outputs": [],
   "source": [
    "content2 = dcc.Tabs(id=\"graph-tabs\", children=[\n",
    "            dcc.Tab([dcc.Graph(id = \"graph_crowd\", figure=create_plot_crowd())],label='Pedestrians'),\n",
    "            dcc.Tab([dcc.Graph(id = \"graph_crowd2\", figure=create_plot_crowd())],label='Cars'),\n",
    "            dcc.Tab(label='Compare'),\n",
    "        ],  vertical=True, parent_style={'float': 'left'})"
   ]
  },
  {
   "cell_type": "markdown",
   "metadata": {},
   "source": [
    "### Overall"
   ]
  },
  {
   "cell_type": "code",
   "execution_count": 487,
   "metadata": {},
   "outputs": [],
   "source": [
    "tabs = dbc.Tabs([\n",
    "    dbc.Tab([\n",
    "        content1\n",
    "    ], label = \"Tab 1\"), \n",
    "    dbc.Tab([\n",
    "        content2\n",
    "    ], label = \"Tab 2\")\n",
    "])"
   ]
  },
  {
   "cell_type": "code",
   "execution_count": 488,
   "metadata": {},
   "outputs": [],
   "source": [
    "sidebar = html.Div([\n",
    "    html.H6(\"Speed Limit\"),\n",
    "    dcc.Slider(id = \"speed-limit\", min = 0, max = 2, step = 0.1, value=1, marks=None,\n",
    "        tooltip={\"placement\": \"bottom\", \"always_visible\": True}),\n",
    "    html.H6(\"Number of Cars\"),\n",
    "    dcc.Slider(id = \"number-of-cars\", min = 0, max = 70, step = 1, value=10, marks=None,\n",
    "        tooltip={\"placement\": \"bottom\", \"always_visible\": True}),\n",
    "    html.H6(\"Number of Pedestrians\"),\n",
    "    dcc.Slider(id = \"number-of-pedestrians\", min = 0, max = 60, step = 1, value=10, marks=None,\n",
    "        tooltip={\"placement\": \"bottom\", \"always_visible\": True}),\n",
    "    html.H6(\"Max patience\"),\n",
    "    dcc.Slider(id = \"max-patience\", min = 0, max = 50, step = 1, value=10, marks=None,\n",
    "        tooltip={\"placement\": \"bottom\", \"always_visible\": True}),\n",
    "    html.H6(\"Time to cross\"),\n",
    "    dcc.Slider(id = \"time-to-cross\", min = 0, max = 40, step = 1, value=10, marks=None,\n",
    "        tooltip={\"placement\": \"bottom\", \"always_visible\": True}),\n",
    "    html.H6(\"Acceleration\"),\n",
    "    dcc.Slider(id = \"acceleration\", min = 0, max = 0.01, step = 0.001, value=0.005, marks=None,\n",
    "        tooltip={\"placement\": \"bottom\", \"always_visible\": True}),\n",
    "    html.H6(\"Deceleration\"),\n",
    "    dcc.Slider(id = \"deceleration\", min = 0, max = 0.1, step = 0.01, value=0.05, marks=None,\n",
    "        tooltip={\"placement\": \"bottom\", \"always_visible\": True}),\n",
    "    html.H6(\"Basic Politeness\"),\n",
    "    dcc.Slider(id = \"basic-politeness\", min = 0, max = 100, step = 1, value= 10, marks=None,\n",
    "        tooltip={\"placement\": \"bottom\", \"always_visible\": True})\n",
    "])"
   ]
  },
  {
   "cell_type": "code",
   "execution_count": 489,
   "metadata": {},
   "outputs": [],
   "source": [
    "\n",
    "\n",
    "\n",
    "app.layout = html.Div(\n",
    "    children=[\n",
    "        html.H1(\"Title\"),\n",
    "        dbc.Row([ \n",
    "            dbc.Col([\n",
    "                sidebar\n",
    "            ], width = 2),\n",
    "            dbc.Col([\n",
    "                tabs\n",
    "            ], width = 10)\n",
    "        ])\n",
    "    ],\n",
    "    style={\"margin-left\": \"20px\", \"margin-right\": \"20px\", \"margin-top\": \"15px\"}\n",
    ")\n"
   ]
  },
  {
   "cell_type": "code",
   "execution_count": 490,
   "metadata": {},
   "outputs": [
    {
     "name": "stdout",
     "output_type": "stream",
     "text": [
      "Dash app running on http://127.0.0.1:8050/\n"
     ]
    }
   ],
   "source": [
    "app.run_server(mode='external')"
   ]
  }
 ],
 "metadata": {
  "kernelspec": {
   "display_name": "Python 3.8.12 ('base')",
   "language": "python",
   "name": "python3"
  },
  "language_info": {
   "codemirror_mode": {
    "name": "ipython",
    "version": 3
   },
   "file_extension": ".py",
   "mimetype": "text/x-python",
   "name": "python",
   "nbconvert_exporter": "python",
   "pygments_lexer": "ipython3",
   "version": "3.8.12"
  },
  "orig_nbformat": 4,
  "vscode": {
   "interpreter": {
    "hash": "113efd2168bbaa2f001264e8437eecf1b921108df0e0d380fb53547f94859f36"
   }
  }
 },
 "nbformat": 4,
 "nbformat_minor": 2
}
