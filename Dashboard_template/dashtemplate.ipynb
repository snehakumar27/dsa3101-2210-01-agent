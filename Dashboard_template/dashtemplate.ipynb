{
 "cells": [
  {
   "cell_type": "code",
   "execution_count": null,
   "metadata": {},
   "outputs": [],
   "source": [
    "import pandas as pd\n",
    "import plotly.express as px\n",
    "import dash\n",
    "from dash import html\n",
    "from dash import dcc\n",
    "from dash.dependencies import Input, Output\n",
    "from jupyter_dash import JupyterDash\n",
    "import dash_bootstrap_components as dbc"
   ]
  },
  {
   "cell_type": "code",
   "execution_count": null,
   "metadata": {},
   "outputs": [],
   "source": [
    "import plotly.graph_objects as go\n",
    "from plotly.subplots import make_subplots"
   ]
  },
  {
   "cell_type": "code",
   "execution_count": null,
   "metadata": {},
   "outputs": [],
   "source": [
    "data = pd.read_excel(\"outputdata.xlsx\", header=1)\n",
    "data.head()"
   ]
  },
  {
   "cell_type": "code",
   "execution_count": null,
   "metadata": {},
   "outputs": [],
   "source": [
    "def create_plot_crowd(time=\"afternoon\", density=\"medium\"):\n",
    "    df = data[data[\"time_of_day\"] == time]\n",
    "    df = df[df[\"population_density\"] == density]\n",
    "\n",
    "    crowd_heat_df = df[[\"number_of_lanes\", \"ratio\", \"avg_crowd_size\"]]\n",
    "    crowd_lanes = df[[\"number_of_lanes\", \"avg_crowd_size\"]].groupby(\"number_of_lanes\").mean()\n",
    "    crowd_ratio = df[[\"ratio\", \"avg_crowd_size\"]].groupby(\"ratio\").mean()\n",
    "\n",
    "    fig = make_subplots(\n",
    "        rows=2, cols=2,\n",
    "        column_widths=[0.5, 0.5],\n",
    "        row_heights=[0.5, 0.5],\n",
    "        specs=[[{\"type\": \"bar\"}, {\"type\": \"heatmap\", \"rowspan\": 2}],\n",
    "           [{\"type\": \"bar\"}, None]])\n",
    "    \n",
    "    fig.add_trace(\n",
    "    go.Heatmap(x = crowd_heat_df[\"number_of_lanes\"],\n",
    "        y =  crowd_heat_df[\"ratio\"],\n",
    "        z =  crowd_heat_df[\"avg_crowd_size\"]\n",
    "        ),\n",
    "    row=1, col=2,\n",
    "    )\n",
    "\n",
    "    fig.add_trace(\n",
    "    go.Bar(x = crowd_lanes.index,\n",
    "        y = crowd_lanes[\"avg_crowd_size\"]\n",
    "        ),\n",
    "    row=1, col=1,\n",
    "    )\n",
    "\n",
    "    fig.add_trace(\n",
    "    go.Bar(x = crowd_ratio.index,\n",
    "        y = crowd_ratio[\"avg_crowd_size\"]\n",
    "        ),\n",
    "    row=2, col=1,\n",
    "    )\n",
    "\n",
    "    fig.update_xaxes(title_text=\"Number of Lanes\", row=1, col=2)\n",
    "    fig.update_xaxes(title_text=\"Number of Lanes\", row=1, col=1)\n",
    "    fig.update_xaxes(title_text=\"Green-Red Ratio\", row=2, col=1)\n",
    "\n",
    "    fig.update_yaxes(title_text=\"Green-Red Ratio\", row=1, col=2)\n",
    "    fig.update_yaxes(title_text=\"Average Crowd Size\", row=1, col=1)\n",
    "    fig.update_yaxes(title_text=\"Average Crowd Size\", row=2, col=1)\n",
    "    fig.update_layout(\n",
    "        showlegend=False\n",
    "    )\n",
    "\n",
    "\n",
    "    return fig\n",
    "    \n"
   ]
  },
  {
   "cell_type": "code",
   "execution_count": null,
   "metadata": {},
   "outputs": [],
   "source": [
    "create_plot_crowd()"
   ]
  },
  {
   "cell_type": "code",
   "execution_count": null,
   "metadata": {},
   "outputs": [],
   "source": [
    "app=JupyterDash(external_stylesheets=[dbc.themes.BOOTSTRAP, 'https://codepen.io/chriddyp/pen/bWLwgP.css'])"
   ]
  },
  {
   "cell_type": "code",
   "execution_count": null,
   "metadata": {},
   "outputs": [],
   "source": [
    "content1 = dbc.Row([\n",
    "    dbc.Col([\n",
    "        html.H3(\"Placeholder for inputs\"),\n",
    "        html.H3(\"Placeholder for outputs\")\n",
    "    ], width = 5),\n",
    "    dbc.Col([\n",
    "        html.H3(\"Placeholder for Graph\"),\n",
    "    ])\n",
    "]\n",
    ")\n",
    "'''\n",
    "content2 = dbc.Row([\n",
    "    dbc.Col([\n",
    "        dcc.RadioItems(['Wait time of Cars', 'Crowd size of Pedestrians','Compare'], 'Cars', inline=False)\n",
    "    ], width = 2),\n",
    "    dbc.Col([\n",
    "        html.H5(\"Placeholder for Graphs\"),\n",
    "        dcc.Graph(id = \"graph_crowd\", figure=create_plot_crowd())\n",
    "    ], width = 10)\n",
    "]\n",
    ")\n",
    "'''"
   ]
  },
  {
   "cell_type": "code",
   "execution_count": null,
   "metadata": {},
   "outputs": [],
   "source": [
    "content2 = dcc.Tabs(id=\"graph-tabs\", children=[\n",
    "            dcc.Tab([dcc.Graph(id = \"graph_crowd\", figure=create_plot_crowd())],label='Pedestrians'),\n",
    "            dcc.Tab([dcc.Graph(id = \"graph_crowd2\", figure=create_plot_crowd())],label='Cars'),\n",
    "            dcc.Tab(label='Compare'),\n",
    "        ],  vertical=True, parent_style={'float': 'left'})"
   ]
  },
  {
   "cell_type": "code",
   "execution_count": null,
   "metadata": {},
   "outputs": [],
   "source": [
    "tabs = dbc.Tabs([\n",
    "    dbc.Tab([\n",
    "        content1\n",
    "    ], label = \"Tab 1\"), \n",
    "    dbc.Tab([\n",
    "        content2\n",
    "    ], label = \"Tab 2\")\n",
    "])"
   ]
  },
  {
   "cell_type": "code",
   "execution_count": null,
   "metadata": {},
   "outputs": [],
   "source": [
    "sidebar = html.Div([\n",
    "    html.H6(\"Speed Limit\"),\n",
    "    dcc.Slider(id = \"speed-limit\", min = 0, max = 2, step = 0.1, value=1, marks=None,\n",
    "        tooltip={\"placement\": \"bottom\", \"always_visible\": True}),\n",
    "    html.H6(\"Number of Cars\"),\n",
    "    dcc.Slider(id = \"number-of-cars\", min = 0, max = 70, step = 1, value=10, marks=None,\n",
    "        tooltip={\"placement\": \"bottom\", \"always_visible\": True}),\n",
    "    html.H6(\"Number of Pedestrians\"),\n",
    "    dcc.Slider(id = \"number-of-pedestrians\", min = 0, max = 60, step = 1, value=10, marks=None,\n",
    "        tooltip={\"placement\": \"bottom\", \"always_visible\": True}),\n",
    "    html.H6(\"Max patience\"),\n",
    "    dcc.Slider(id = \"max-patience\", min = 0, max = 50, step = 1, value=10, marks=None,\n",
    "        tooltip={\"placement\": \"bottom\", \"always_visible\": True}),\n",
    "    html.H6(\"Time to cross\"),\n",
    "    dcc.Slider(id = \"time-to-cross\", min = 0, max = 40, step = 1, value=10, marks=None,\n",
    "        tooltip={\"placement\": \"bottom\", \"always_visible\": True}),\n",
    "    html.H6(\"Acceleration\"),\n",
    "    dcc.Slider(id = \"acceleration\", min = 0, max = 0.01, step = 0.001, value=0.005, marks=None,\n",
    "        tooltip={\"placement\": \"bottom\", \"always_visible\": True}),\n",
    "    html.H6(\"Deceleration\"),\n",
    "    dcc.Slider(id = \"deceleration\", min = 0, max = 0.1, step = 0.01, value=0.05, marks=None,\n",
    "        tooltip={\"placement\": \"bottom\", \"always_visible\": True}),\n",
    "    html.H6(\"Basic Politeness\"),\n",
    "    dcc.Slider(id = \"basic-politeness\", min = 0, max = 100, step = 1, value= 10, marks=None,\n",
    "        tooltip={\"placement\": \"bottom\", \"always_visible\": True})\n",
    "])"
   ]
  },
  {
   "cell_type": "code",
   "execution_count": null,
   "metadata": {},
   "outputs": [],
   "source": [
    "\n",
    "\n",
    "\n",
    "app.layout = html.Div(\n",
    "    children=[\n",
    "        html.H1(\"Title\"),\n",
    "        dbc.Row([ \n",
    "            dbc.Col([\n",
    "                sidebar\n",
    "            ], width = 2),\n",
    "            dbc.Col([\n",
    "                tabs\n",
    "            ], width = 10)\n",
    "        ])\n",
    "    ],\n",
    "    style={\"margin-left\": \"20px\", \"margin-right\": \"20px\", \"margin-top\": \"15px\"}\n",
    ")\n"
   ]
  },
  {
   "cell_type": "code",
   "execution_count": 27,
   "metadata": {},
   "outputs": [],
   "source": [
    "app.run_server(mode='external')"
   ]
  }
 ],
 "metadata": {
  "kernelspec": {
   "display_name": "Python 3.9.7 64-bit",
   "language": "python",
   "name": "python3"
  },
  "language_info": {
   "codemirror_mode": {
    "name": "ipython",
    "version": 3
   },
   "file_extension": ".py",
   "mimetype": "text/x-python",
   "name": "python",
   "nbconvert_exporter": "python",
   "pygments_lexer": "ipython3",
   "version": "3.9.7"
  },
  "vscode": {
   "interpreter": {
    "hash": "b0fa6594d8f4cbf19f97940f81e996739fb7646882a419484c72d19e05852a7e"
   }
  }
 },
 "nbformat": 4,
 "nbformat_minor": 2
}
